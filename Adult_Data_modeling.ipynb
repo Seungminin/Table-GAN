{
  "nbformat": 4,
  "nbformat_minor": 0,
  "metadata": {
    "colab": {
      "provenance": [],
      "gpuType": "T4"
    },
    "kernelspec": {
      "name": "python3",
      "display_name": "Python 3"
    },
    "language_info": {
      "name": "python"
    },
    "accelerator": "GPU"
  },
  "cells": [
    {
      "cell_type": "markdown",
      "source": [
        "# **Adult Data Checking**\n",
        "- dataset 'income' imbalanced portion.\n",
        "- replace object data type with labelencoder, vector representation."
      ],
      "metadata": {
        "id": "SlKg_eEm_ref"
      }
    },
    {
      "cell_type": "code",
      "execution_count": 1,
      "metadata": {
        "id": "61SXmbOo5W6L"
      },
      "outputs": [],
      "source": [
        "from sklearn.tree import DecisionTreeClassifier\n",
        "\n",
        "from sklearn.preprocessing import LabelEncoder\n",
        "from sklearn.model_selection import train_test_split, cross_val_score\n",
        "\n",
        "import os\n",
        "import warnings\n",
        "warnings.filterwarnings('ignore')\n",
        "\n",
        "import pandas as pd\n",
        "import numpy as np\n",
        "import matplotlib.pyplot as plt\n",
        "import seaborn as sns\n",
        "\n",
        "plt.style.use('fivethirtyeight')\n",
        "plt.rcParams['figure.figsize'] = (8, 6)\n",
        "plt.rcParams['font.size'] = 12"
      ]
    },
    {
      "cell_type": "code",
      "source": [
        "from google.colab import drive\n",
        "drive.mount('/content/drive')"
      ],
      "metadata": {
        "colab": {
          "base_uri": "https://localhost:8080/"
        },
        "id": "WUOEb3pK6VIN",
        "outputId": "86e9b431-b4ec-4a39-9eb6-b31c65deba9c"
      },
      "execution_count": 2,
      "outputs": [
        {
          "output_type": "stream",
          "name": "stdout",
          "text": [
            "Mounted at /content/drive\n"
          ]
        }
      ]
    },
    {
      "cell_type": "code",
      "source": [
        "%cd /content/drive//MyDrive/Table-GAN_Checking/dataset"
      ],
      "metadata": {
        "colab": {
          "base_uri": "https://localhost:8080/"
        },
        "id": "2pgvRLfo6pbn",
        "outputId": "7af99bc1-6ca6-4250-d273-72d6817a615c"
      },
      "execution_count": 3,
      "outputs": [
        {
          "output_type": "stream",
          "name": "stdout",
          "text": [
            "/content/drive/MyDrive/Table-GAN_Checking/dataset\n"
          ]
        }
      ]
    },
    {
      "cell_type": "code",
      "source": [
        "%ls"
      ],
      "metadata": {
        "colab": {
          "base_uri": "https://localhost:8080/"
        },
        "id": "9E3BYlSH7Hne",
        "outputId": "fe1251dc-9f2a-4b30-a6a3-db05d3eda31b"
      },
      "execution_count": 4,
      "outputs": [
        {
          "output_type": "stream",
          "name": "stdout",
          "text": [
            "Adult_pra_cleaned.csv  Adult_pra_labels.csv\n"
          ]
        }
      ]
    },
    {
      "cell_type": "code",
      "source": [
        "header_list = [\"age\",\"workclass\",\"fnlwgt\",\"education\",\"education_num\",\"marital-status\",\"occupation\",\n",
        "               \"relationship\",\"race\",\"sex\",\"capital-gain\",\"capital-loss\",\"hours-per-week\",\"native-country\"\n",
        "               ] #14 columns (14 features).\n",
        "dataset = pd.read_csv('Adult_pra_cleaned.csv', names = header_list)\n",
        "target = pd.read_csv('Adult_pra_labels.csv')\n",
        "#print(dataset.columns) #15개 columns\n",
        "#print(dataset.info())\n",
        "\n",
        "target.columns = ['income']\n",
        "print(target.head())"
      ],
      "metadata": {
        "colab": {
          "base_uri": "https://localhost:8080/"
        },
        "id": "NxkpmDyk7S6l",
        "outputId": "48c51e24-f5bf-4420-eebd-30528c4c90c6"
      },
      "execution_count": 16,
      "outputs": [
        {
          "output_type": "stream",
          "name": "stdout",
          "text": [
            "   income\n",
            "0       0\n",
            "1       0\n",
            "2       0\n",
            "3       0\n",
            "4       0\n"
          ]
        }
      ]
    },
    {
      "cell_type": "code",
      "source": [
        "dataset = pd.concat([dataset,target], axis = 1)"
      ],
      "metadata": {
        "id": "aHewnrNFxQ2c"
      },
      "execution_count": 20,
      "outputs": []
    },
    {
      "cell_type": "code",
      "source": [
        "dataset['income'].unique()"
      ],
      "metadata": {
        "colab": {
          "base_uri": "https://localhost:8080/"
        },
        "id": "yNyBdIWw8RYa",
        "outputId": "ab76f7dd-9574-4876-f8e7-6c9d054320f1"
      },
      "execution_count": 21,
      "outputs": [
        {
          "output_type": "execute_result",
          "data": {
            "text/plain": [
              "array([0, 1])"
            ]
          },
          "metadata": {},
          "execution_count": 21
        }
      ]
    },
    {
      "cell_type": "code",
      "source": [
        "#dataset['income'] = dataset['income'].map(lambda x: 1 if x==' >50K' else 0)"
      ],
      "metadata": {
        "id": "3Xi68dcL7sDj"
      },
      "execution_count": null,
      "outputs": []
    },
    {
      "cell_type": "code",
      "source": [
        "print(dataset['income'].value_counts())"
      ],
      "metadata": {
        "colab": {
          "base_uri": "https://localhost:8080/"
        },
        "id": "QhkGThbm78OO",
        "outputId": "36848f56-918d-409e-bc28-472ee07ccfed"
      },
      "execution_count": 22,
      "outputs": [
        {
          "output_type": "stream",
          "name": "stdout",
          "text": [
            "income\n",
            "0    24720\n",
            "1     7841\n",
            "Name: count, dtype: int64\n"
          ]
        }
      ]
    },
    {
      "cell_type": "code",
      "source": [
        "sns.countplot(x='income', data=dataset)\n",
        "plt.show()"
      ],
      "metadata": {
        "colab": {
          "base_uri": "https://localhost:8080/",
          "height": 570
        },
        "id": "33DHvbUO8kA5",
        "outputId": "fa45a723-ff39-4429-8d0d-83d118d6ac5c"
      },
      "execution_count": 23,
      "outputs": [
        {
          "output_type": "display_data",
          "data": {
            "text/plain": [
              "<Figure size 800x600 with 1 Axes>"
            ],
            "image/png": "[encoded data removed]"
          },
          "metadata": {}
        }
      ]
    },
    {
      "cell_type": "code",
      "source": [
        "#dataset['native-country-bin'] = dataset['native-country'].map(lambda x: 1 if x==' United-States' else 0) #column 16개"
      ],
      "metadata": {
        "id": "jlfeg2ai-R6o"
      },
      "execution_count": null,
      "outputs": []
    },
    {
      "cell_type": "code",
      "source": [
        "#print(dataset[['native-country-bin']].value_counts())"
      ],
      "metadata": {
        "colab": {
          "base_uri": "https://localhost:8080/"
        },
        "id": "5Xo1xCZC-XPR",
        "outputId": "309d0964-b029-4137-b619-9ddaa58ee82f"
      },
      "execution_count": null,
      "outputs": [
        {
          "output_type": "stream",
          "name": "stdout",
          "text": [
            "native-country-bin\n",
            "1                     29170\n",
            "0                      3391\n",
            "Name: count, dtype: int64\n"
          ]
        }
      ]
    },
    {
      "cell_type": "code",
      "source": [
        "train_data, test_data = train_test_split(dataset, test_size = 0.2, random_state = 42, stratify = dataset['income']) #일정 비율을 지켜준다\n",
        "print(train_data.shape)"
      ],
      "metadata": {
        "colab": {
          "base_uri": "https://localhost:8080/"
        },
        "id": "TbxK8EQ2802b",
        "outputId": "0192392e-26c9-44f3-a2b7-432892012003"
      },
      "execution_count": 24,
      "outputs": [
        {
          "output_type": "stream",
          "name": "stdout",
          "text": [
            "(26048, 15)\n"
          ]
        }
      ]
    },
    {
      "cell_type": "code",
      "source": [
        "sns.countplot(x='income', data=train_data)\n",
        "plt.show()"
      ],
      "metadata": {
        "colab": {
          "base_uri": "https://localhost:8080/",
          "height": 570
        },
        "id": "ktQX0sl89Bxe",
        "outputId": "26e85ed1-15a3-431c-f993-f22dcf117d74"
      },
      "execution_count": 25,
      "outputs": [
        {
          "output_type": "display_data",
          "data": {
            "text/plain": [
              "<Figure size 800x600 with 1 Axes>"
            ],
            "image/png": "[encoded data removed]"
          },
          "metadata": {}
        }
      ]
    },
    {
      "cell_type": "code",
      "source": [
        "#데이터 분석 영향을 받은 경우\n",
        "X = train_data.iloc[:, [0, 1, 2, 3, 4, 5, 6, 7, 8, 9, 10, 11,12, 13]]\n",
        "y = train_data[['income']]\n",
        "\"\"\"\n",
        "\n",
        "String_X = train_data[['workclass','education','marital-status', 'occupation','relationship','race','sex']]\n",
        "encoder = LabelEncoder()\n",
        "encoded_X = String_X.apply(encoder.fit_transform)\n",
        "\n",
        "# X 데이터에 encode된 결과를 추가\n",
        "X = pd.concat([X, encoded_X], axis=1)\n",
        "\n",
        "print(X.shape)\n",
        "\"\"\""
      ],
      "metadata": {
        "colab": {
          "base_uri": "https://localhost:8080/",
          "height": 54
        },
        "id": "0NMKwmd9-xng",
        "outputId": "0e7b7b50-2d23-4112-ffe9-8ec4fac31f30"
      },
      "execution_count": 29,
      "outputs": [
        {
          "output_type": "execute_result",
          "data": {
            "text/plain": [
              "\"\\n\\nString_X = train_data[['workclass','education','marital-status', 'occupation','relationship','race','sex']]\\nencoder = LabelEncoder()\\nencoded_X = String_X.apply(encoder.fit_transform)\\n\\n# X 데이터에 encode된 결과를 추가\\nX = pd.concat([X, encoded_X], axis=1)\\n\\nprint(X.shape)\\n\""
            ],
            "application/vnd.google.colaboratory.intrinsic+json": {
              "type": "string"
            }
          },
          "metadata": {},
          "execution_count": 29
        }
      ]
    },
    {
      "cell_type": "code",
      "source": [
        "#decision tree를 이용해서 어떤 feature가 제일 영향력이 있는 feature인 지 확인하기.\n",
        "dt_clf = DecisionTreeClassifier(random_state=1004)\n",
        "\n",
        "#dt_clf_model = dt_clf.fit(X,y)\n",
        "cv_scores = cross_val_score(dt_clf, X,y,cv=5)\n",
        "print(\"Cross-validation scores:\", cv_scores)\n",
        "print(\"Average accuracy:\", np.mean(cv_scores))\n",
        "\n",
        "dt_clf_model = dt_clf.fit(X,y)\n",
        "print(dt_clf_model.feature_importances_)\n",
        "\n",
        "#모델의 정확도는 80%이다."
      ],
      "metadata": {
        "colab": {
          "base_uri": "https://localhost:8080/"
        },
        "id": "UfEOgAvS_DOv",
        "outputId": "ca018647-da1d-4f73-fedd-795e150e3955"
      },
      "execution_count": 30,
      "outputs": [
        {
          "output_type": "stream",
          "name": "stdout",
          "text": [
            "Cross-validation scores: [0.79808061 0.81305182 0.81497121 0.81455174 0.81032828]\n",
            "Average accuracy: 0.8101967324382094\n",
            "[0.12637361 0.03340571 0.19663683 0.01248238 0.11936751 0.14923924\n",
            " 0.05750863 0.00909644 0.01028947 0.00843926 0.15808695 0.03641627\n",
            " 0.06743754 0.01522019]\n"
          ]
        }
      ]
    },
    {
      "cell_type": "code",
      "source": [
        "features = X.columns\n",
        "importances = dt_clf_model.feature_importances_\n",
        "\n",
        "plt.figure(figsize=(8, 6))\n",
        "plt.bar(features, importances, color='skyblue')\n",
        "plt.tick_params(axis='x', labelrotation=90)\n",
        "plt.title('Feature Importances')\n",
        "plt.xlabel('Features')\n",
        "plt.ylabel('Importance')\n",
        "plt.xticks(rotation=45)\n",
        "plt.show()"
      ],
      "metadata": {
        "colab": {
          "base_uri": "https://localhost:8080/",
          "height": 683
        },
        "id": "ByrTPtzr-yrc",
        "outputId": "0fda2194-e9dd-4ad4-9c0f-11a741d38af8"
      },
      "execution_count": 31,
      "outputs": [
        {
          "output_type": "display_data",
          "data": {
            "text/plain": [
              "<Figure size 800x600 with 1 Axes>"
            ],
            "image/png": "[encoded data removed]"
          },
          "metadata": {}
        }
      ]
    },
    {
      "cell_type": "markdown",
      "source": [
        "# **Data Modeling without Table - GAN**\n",
        "- Bagging\n",
        "  - accuracy : 84%\n",
        "  - F1 Score : 90(index : 0), 66(index : 1)\n",
        "- AdaBoostClassifier\n",
        "  - accuracy : 86%\n",
        "  - F1 Score : 92(index : 0), 70(index : 1)\n",
        "- RandomforestClassifier\n",
        "  - accuracy : 85%\n",
        "  - F1 Score : 91(index : 0), 67(index : 1)\n",
        "- XGBClassifier\n",
        "  - accuracy : 86%\n",
        "  - F1 Score : 92(index : 0), 71(index : 1)\n",
        "- LogisticRegression\n",
        "  - accuracy : 81%\n",
        "  - F1 Score : 89(index : 0), 54(index : 1)\n",
        "- DecisionTreeClassifier\n",
        "  - accuracy : 85%\n",
        "  - F1 Score : 90(index : 0), 68(index : 1)"
      ],
      "metadata": {
        "id": "z4bwkW19ANTP"
      }
    },
    {
      "cell_type": "code",
      "source": [
        "from sklearn.preprocessing import StandardScaler\n",
        "\n",
        "from sklearn.tree import DecisionTreeClassifier\n",
        "from sklearn.ensemble import RandomForestClassifier, BaggingClassifier, AdaBoostClassifier\n",
        "from xgboost import XGBClassifier\n",
        "from sklearn.linear_model import LogisticRegression\n",
        "\n",
        "from sklearn.metrics import accuracy_score, classification_report\n",
        "from sklearn.model_selection import cross_val_score\n",
        "\n",
        "from sklearn.model_selection import GridSearchCV\n",
        "from sklearn.feature_selection import SelectKBest, chi2"
      ],
      "metadata": {
        "id": "qfrrkQl8A1tM"
      },
      "execution_count": 32,
      "outputs": []
    },
    {
      "cell_type": "code",
      "source": [
        "# 특성과 타겟 분리\n",
        "\"\"\"\n",
        "X = dataset.drop('income', axis=1)\n",
        "y = dataset['income']\n",
        "\n",
        "#LabelEncoder를 진행. 가중치가 없는 것으로 이용\n",
        "String_index = []\n",
        "for i, col in enumerate (X.columns):\n",
        "    if X[col].dtype==object:\n",
        "        String_index.append(col)\n",
        "\n",
        "encoder = LabelEncoder()\n",
        "for col in String_index:\n",
        "    X[col] = encoder.fit_transform(X[col])\n",
        "\"\"\"\n",
        "\n",
        "########################추가\n",
        "k = 10\n",
        "selector = SelectKBest(score_func=chi2, k=k)\n",
        "X_selected = selector.fit_transform(X, y)\n",
        "#######################\n",
        "\n",
        "\n",
        "print(X.head())"
      ],
      "metadata": {
        "colab": {
          "base_uri": "https://localhost:8080/"
        },
        "id": "oZY5UWlVBI5k",
        "outputId": "16aabef3-1d8c-4e4e-ceb9-c9b677d48649"
      },
      "execution_count": 35,
      "outputs": [
        {
          "output_type": "stream",
          "name": "stdout",
          "text": [
            "       age  workclass  fnlwgt  education  education_num  marital-status  \\\n",
            "15738   32          2   37210          0             13               1   \n",
            "27985   43          2  101950          3             14               0   \n",
            "30673   20          5  122244          1              9               0   \n",
            "9505    40          4   24763          5             10               2   \n",
            "26417   24          2  113936          0             13               0   \n",
            "\n",
            "       occupation  relationship  race  sex  capital-gain  capital-loss  \\\n",
            "15738           1             1     0    0             0             0   \n",
            "27985           1             0     0    1             0             0   \n",
            "30673          11             0     0    1             0             0   \n",
            "9505            7             4     0    0          6849             0   \n",
            "26417           3             3     0    0             0             0   \n",
            "\n",
            "       hours-per-week  native-country  \n",
            "15738              45               0  \n",
            "27985              45               0  \n",
            "30673              28               0  \n",
            "9505               40               0  \n",
            "26417              40               0  \n"
          ]
        }
      ]
    },
    {
      "cell_type": "code",
      "source": [
        "# 데이터 분할\n",
        "X_train, X_test, y_train, y_test = train_test_split(X_selected, y, test_size=0.2, random_state=42)\n",
        "\n",
        "# 특성 스케일링\n",
        "scaler = StandardScaler()\n",
        "X_train_scaled = scaler.fit_transform(X_train)\n",
        "X_test_scaled = scaler.transform(X_test)"
      ],
      "metadata": {
        "id": "8xRjMor9BQ7o"
      },
      "execution_count": 36,
      "outputs": []
    },
    {
      "cell_type": "code",
      "source": [
        "# Function to evaluate models using GridSearchCV\n",
        "def evaluate_model(model, param_grid, X_train, y_train):\n",
        "    grid_search = GridSearchCV(estimator=model, param_grid=param_grid, cv=5, n_jobs=-1, scoring='accuracy')\n",
        "    grid_search.fit(X_train, y_train)\n",
        "    print(f'Best parameters for {model.__class__.__name__}: {grid_search.best_params_}')\n",
        "    print(f'Best cross-validation score for {model.__class__.__name__}: {grid_search.best_score_}')\n",
        "    return grid_search.best_estimator_"
      ],
      "metadata": {
        "id": "NBUP3pIPBSqo"
      },
      "execution_count": 37,
      "outputs": []
    },
    {
      "cell_type": "code",
      "source": [
        "# BaggingClassifier 모델 학습\n",
        "base_estimator = DecisionTreeClassifier(max_depth=None, min_samples_split=2, random_state=42)\n",
        "bagging_model = BaggingClassifier(base_estimator, n_estimators=100, random_state=42)\n",
        "\n",
        "bagging_model.fit(X_train, y_train)"
      ],
      "metadata": {
        "colab": {
          "base_uri": "https://localhost:8080/",
          "height": 117
        },
        "id": "VBiUDxD7BYjI",
        "outputId": "87b24a70-a82c-4511-884c-920664388ea4"
      },
      "execution_count": 38,
      "outputs": [
        {
          "output_type": "execute_result",
          "data": {
            "text/plain": [
              "BaggingClassifier(estimator=DecisionTreeClassifier(random_state=42),\n",
              "                  n_estimators=100, random_state=42)"
            ],
            "text/html": [
              "<style>#sk-container-id-1 {color: black;background-color: white;}#sk-container-id-1 pre{padding: 0;}#sk-container-id-1 div.sk-toggleable {background-color: white;}#sk-container-id-1 label.sk-toggleable__label {cursor: pointer;display: block;width: 100%;margin-bottom: 0;padding: 0.3em;box-sizing: border-box;text-align: center;}#sk-container-id-1 label.sk-toggleable__label-arrow:before {content: \"▸\";float: left;margin-right: 0.25em;color: #696969;}#sk-container-id-1 label.sk-toggleable__label-arrow:hover:before {color: black;}#sk-container-id-1 div.sk-estimator:hover label.sk-toggleable__label-arrow:before {color: black;}#sk-container-id-1 div.sk-toggleable__content {max-height: 0;max-width: 0;overflow: hidden;text-align: left;background-color: #f0f8ff;}#sk-container-id-1 div.sk-toggleable__content pre {margin: 0.2em;color: black;border-radius: 0.25em;background-color: #f0f8ff;}#sk-container-id-1 input.sk-toggleable__control:checked~div.sk-toggleable__content {max-height: 200px;max-width: 100%;overflow: auto;}#sk-container-id-1 input.sk-toggleable__control:checked~label.sk-toggleable__label-arrow:before {content: \"▾\";}#sk-container-id-1 div.sk-estimator input.sk-toggleable__control:checked~label.sk-toggleable__label {background-color: #d4ebff;}#sk-container-id-1 div.sk-label input.sk-toggleable__control:checked~label.sk-toggleable__label {background-color: #d4ebff;}#sk-container-id-1 input.sk-hidden--visually {border: 0;clip: rect(1px 1px 1px 1px);clip: rect(1px, 1px, 1px, 1px);height: 1px;margin: -1px;overflow: hidden;padding: 0;position: absolute;width: 1px;}#sk-container-id-1 div.sk-estimator {font-family: monospace;background-color: #f0f8ff;border: 1px dotted black;border-radius: 0.25em;box-sizing: border-box;margin-bottom: 0.5em;}#sk-container-id-1 div.sk-estimator:hover {background-color: #d4ebff;}#sk-container-id-1 div.sk-parallel-item::after {content: \"\";width: 100%;border-bottom: 1px solid gray;flex-grow: 1;}#sk-container-id-1 div.sk-label:hover label.sk-toggleable__label {background-color: #d4ebff;}#sk-container-id-1 div.sk-serial::before {content: \"\";position: absolute;border-left: 1px solid gray;box-sizing: border-box;top: 0;bottom: 0;left: 50%;z-index: 0;}#sk-container-id-1 div.sk-serial {display: flex;flex-direction: column;align-items: center;background-color: white;padding-right: 0.2em;padding-left: 0.2em;position: relative;}#sk-container-id-1 div.sk-item {position: relative;z-index: 1;}#sk-container-id-1 div.sk-parallel {display: flex;align-items: stretch;justify-content: center;background-color: white;position: relative;}#sk-container-id-1 div.sk-item::before, #sk-container-id-1 div.sk-parallel-item::before {content: \"\";position: absolute;border-left: 1px solid gray;box-sizing: border-box;top: 0;bottom: 0;left: 50%;z-index: -1;}#sk-container-id-1 div.sk-parallel-item {display: flex;flex-direction: column;z-index: 1;position: relative;background-color: white;}#sk-container-id-1 div.sk-parallel-item:first-child::after {align-self: flex-end;width: 50%;}#sk-container-id-1 div.sk-parallel-item:last-child::after {align-self: flex-start;width: 50%;}#sk-container-id-1 div.sk-parallel-item:only-child::after {width: 0;}#sk-container-id-1 div.sk-dashed-wrapped {border: 1px dashed gray;margin: 0 0.4em 0.5em 0.4em;box-sizing: border-box;padding-bottom: 0.4em;background-color: white;}#sk-container-id-1 div.sk-label label {font-family: monospace;font-weight: bold;display: inline-block;line-height: 1.2em;}#sk-container-id-1 div.sk-label-container {text-align: center;}#sk-container-id-1 div.sk-container {/* jupyter's `normalize.less` sets `[hidden] { display: none; }` but bootstrap.min.css set `[hidden] { display: none !important; }` so we also need the `!important` here to be able to override the default hidden behavior on the sphinx rendered scikit-learn.org. See: https://github.com/scikit-learn/scikit-learn/issues/21755 */display: inline-block !important;position: relative;}#sk-container-id-1 div.sk-text-repr-fallback {display: none;}</style><div id=\"sk-container-id-1\" class=\"sk-top-container\"><div class=\"sk-text-repr-fallback\"><pre>BaggingClassifier(estimator=DecisionTreeClassifier(random_state=42),\n",
              "                  n_estimators=100, random_state=42)</pre><b>In a Jupyter environment, please rerun this cell to show the HTML representation or trust the notebook. <br />On GitHub, the HTML representation is unable to render, please try loading this page with nbviewer.org.</b></div><div class=\"sk-container\" hidden><div class=\"sk-item sk-dashed-wrapped\"><div class=\"sk-label-container\"><div class=\"sk-label sk-toggleable\"><input class=\"sk-toggleable__control sk-hidden--visually\" id=\"sk-estimator-id-1\" type=\"checkbox\" ><label for=\"sk-estimator-id-1\" class=\"sk-toggleable__label sk-toggleable__label-arrow\">BaggingClassifier</label><div class=\"sk-toggleable__content\"><pre>BaggingClassifier(estimator=DecisionTreeClassifier(random_state=42),\n",
              "                  n_estimators=100, random_state=42)</pre></div></div></div><div class=\"sk-parallel\"><div class=\"sk-parallel-item\"><div class=\"sk-item\"><div class=\"sk-label-container\"><div class=\"sk-label sk-toggleable\"><input class=\"sk-toggleable__control sk-hidden--visually\" id=\"sk-estimator-id-2\" type=\"checkbox\" ><label for=\"sk-estimator-id-2\" class=\"sk-toggleable__label sk-toggleable__label-arrow\">estimator: DecisionTreeClassifier</label><div class=\"sk-toggleable__content\"><pre>DecisionTreeClassifier(random_state=42)</pre></div></div></div><div class=\"sk-serial\"><div class=\"sk-item\"><div class=\"sk-estimator sk-toggleable\"><input class=\"sk-toggleable__control sk-hidden--visually\" id=\"sk-estimator-id-3\" type=\"checkbox\" ><label for=\"sk-estimator-id-3\" class=\"sk-toggleable__label sk-toggleable__label-arrow\">DecisionTreeClassifier</label><div class=\"sk-toggleable__content\"><pre>DecisionTreeClassifier(random_state=42)</pre></div></div></div></div></div></div></div></div></div></div>"
            ]
          },
          "metadata": {},
          "execution_count": 38
        }
      ]
    },
    {
      "cell_type": "code",
      "source": [
        "# AdaBoostClassifier\n",
        "boosting_model = AdaBoostClassifier(DecisionTreeClassifier(), n_estimators=100, random_state=42)\n",
        "param_grid_boosting = {\n",
        "        'n_estimators': [50, 100, 200],\n",
        "    'learning_rate': [0.01, 0.1, 1.0],\n",
        "    'base_estimator__max_depth': [1, 2, 3]\n",
        "}\n",
        "boosting_model = evaluate_model(boosting_model, param_grid_boosting, X_train, y_train)\n",
        "\n",
        "# RandomForestClassifier\n",
        "rf_model = RandomForestClassifier(n_estimators=100, random_state=42)\n",
        "param_grid_rf = {\n",
        "        'n_estimators': [50, 100, 200],\n",
        "    'max_depth': [None, 10, 20],\n",
        "    'min_samples_split': [2, 5, 10],\n",
        "    'min_samples_leaf': [1, 2, 4]\n",
        "}\n",
        "rf_model = evaluate_model(rf_model, param_grid_rf, X_train, y_train)\n",
        "\n",
        "# XGBoost\n",
        "xgb_model = XGBClassifier(n_estimators=100, learning_rate=0.1, random_state=42)\n",
        "param_grid_xgb = {\n",
        "        'n_estimators': [50, 100, 200],\n",
        "    'learning_rate': [0.01, 0.1, 0.3],\n",
        "    'max_depth': [3, 5, 7],\n",
        "        'subsample': [0.7, 0.8, 0.9, 1.0],\n",
        "    'colsample_bytree': [0.7, 0.8, 0.9, 1.0]\n",
        "\n",
        "}\n",
        "xgb_model = evaluate_model(xgb_model, param_grid_xgb, X_train, y_train)\n",
        "\n",
        "# LogisticRegression\n",
        "lr_model = LogisticRegression(max_iter=1000, random_state=42)\n",
        "param_grid_lr = {\n",
        "        'C': [0.01, 0.1, 1, 10, 100]\n",
        "    }\n",
        "lr_model = evaluate_model(lr_model, param_grid_lr, X_train_scaled, y_train)\n",
        "\n",
        "# Decision Tree\n",
        "dt_model = DecisionTreeClassifier(random_state=42)\n",
        "param_grid_dt = {\n",
        "        'max_depth': [None, 10, 20, 30],\n",
        "    'min_samples_split': [2, 5, 10],\n",
        "    'min_samples_leaf': [1, 2, 4]\n",
        "}\n",
        "dt_model = evaluate_model(dt_model, param_grid_dt, X_train, y_train)\n",
        "\n",
        "# 반복문으로 일괄 테스트\n",
        "def test_model(model, X_test, y_test, X_test_scaled=None):\n",
        "    if X_test_scaled is not None:\n",
        "        y_pred = model.predict(X_test_scaled)\n",
        "    else:\n",
        "        y_pred = model.predict(X_test)\n",
        "    accuracy = accuracy_score(y_test, y_pred)\n",
        "    report = classification_report(y_test, y_pred)\n",
        "    return accuracy, report\n",
        "\n",
        "\n",
        "models = {\n",
        "    'Bagging': (bagging_model, None),\n",
        "    'AdaBoost': (boosting_model, None),\n",
        "    'Random Forest': (rf_model, None),\n",
        "    'XGBoost': (xgb_model, None),\n",
        "    'Logistic Regression': (lr_model, X_test_scaled),\n",
        "    'Decision Tree': (dt_model, None)\n",
        "}\n",
        "# 반복문으로 출력방식 수정\n",
        "for name, (model, scaled) in models.items():\n",
        "    accuracy, report = test_model(model, X_test, y_test, X_test_scaled=scaled)\n",
        "    print(f'{name} Model Accuracy: {accuracy}')\n",
        "    print(f'{name} Model Classification Report:\\n{report}')"
      ],
      "metadata": {
        "colab": {
          "base_uri": "https://localhost:8080/"
        },
        "id": "EWxf_KrzBbX2",
        "outputId": "80a02c20-e324-495f-f925-01b03aa37f82"
      },
      "execution_count": 39,
      "outputs": [
        {
          "output_type": "stream",
          "name": "stdout",
          "text": [
            "Best parameters for AdaBoostClassifier: {'base_estimator__max_depth': 3, 'learning_rate': 0.1, 'n_estimators': 200}\n",
            "Best cross-validation score for AdaBoostClassifier: 0.8696612102125879\n",
            "Best parameters for RandomForestClassifier: {'max_depth': 20, 'min_samples_leaf': 2, 'min_samples_split': 10, 'n_estimators': 100}\n",
            "Best cross-validation score for RandomForestClassifier: 0.862030891655347\n",
            "Best parameters for XGBClassifier: {'colsample_bytree': 0.7, 'learning_rate': 0.1, 'max_depth': 5, 'n_estimators': 200, 'subsample': 1.0}\n",
            "Best cross-validation score for XGBClassifier: 0.8706209261416475\n",
            "Best parameters for LogisticRegression: {'C': 0.1}\n",
            "Best cross-validation score for LogisticRegression: 0.8265188458627725\n",
            "Best parameters for DecisionTreeClassifier: {'max_depth': 10, 'min_samples_leaf': 2, 'min_samples_split': 10}\n",
            "Best cross-validation score for DecisionTreeClassifier: 0.8523848034575661\n",
            "Bagging Model Accuracy: 0.844337811900192\n",
            "Bagging Model Classification Report:\n",
            "              precision    recall  f1-score   support\n",
            "\n",
            "           0       0.88      0.92      0.90      3916\n",
            "           1       0.72      0.60      0.66      1294\n",
            "\n",
            "    accuracy                           0.84      5210\n",
            "   macro avg       0.80      0.76      0.78      5210\n",
            "weighted avg       0.84      0.84      0.84      5210\n",
            "\n",
            "AdaBoost Model Accuracy: 0.8692898272552783\n",
            "AdaBoost Model Classification Report:\n",
            "              precision    recall  f1-score   support\n",
            "\n",
            "           0       0.89      0.95      0.92      3916\n",
            "           1       0.80      0.63      0.70      1294\n",
            "\n",
            "    accuracy                           0.87      5210\n",
            "   macro avg       0.84      0.79      0.81      5210\n",
            "weighted avg       0.86      0.87      0.86      5210\n",
            "\n",
            "Random Forest Model Accuracy: 0.8583493282149712\n",
            "Random Forest Model Classification Report:\n",
            "              precision    recall  f1-score   support\n",
            "\n",
            "           0       0.88      0.95      0.91      3916\n",
            "           1       0.79      0.59      0.67      1294\n",
            "\n",
            "    accuracy                           0.86      5210\n",
            "   macro avg       0.83      0.77      0.79      5210\n",
            "weighted avg       0.85      0.86      0.85      5210\n",
            "\n",
            "XGBoost Model Accuracy: 0.8692898272552783\n",
            "XGBoost Model Classification Report:\n",
            "              precision    recall  f1-score   support\n",
            "\n",
            "           0       0.89      0.95      0.92      3916\n",
            "           1       0.80      0.64      0.71      1294\n",
            "\n",
            "    accuracy                           0.87      5210\n",
            "   macro avg       0.84      0.79      0.81      5210\n",
            "weighted avg       0.86      0.87      0.86      5210\n",
            "\n",
            "Logistic Regression Model Accuracy: 0.8190019193857966\n",
            "Logistic Regression Model Classification Report:\n",
            "              precision    recall  f1-score   support\n",
            "\n",
            "           0       0.83      0.95      0.89      3916\n",
            "           1       0.73      0.43      0.54      1294\n",
            "\n",
            "    accuracy                           0.82      5210\n",
            "   macro avg       0.78      0.69      0.72      5210\n",
            "weighted avg       0.81      0.82      0.80      5210\n",
            "\n",
            "Decision Tree Model Accuracy: 0.8504798464491363\n",
            "Decision Tree Model Classification Report:\n",
            "              precision    recall  f1-score   support\n",
            "\n",
            "           0       0.89      0.92      0.90      3916\n",
            "           1       0.72      0.65      0.68      1294\n",
            "\n",
            "    accuracy                           0.85      5210\n",
            "   macro avg       0.80      0.78      0.79      5210\n",
            "weighted avg       0.85      0.85      0.85      5210\n",
            "\n"
          ]
        }
      ]
    }
  ]
}